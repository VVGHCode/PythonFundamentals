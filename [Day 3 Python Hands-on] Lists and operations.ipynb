{
 "cells": [
  {
   "cell_type": "code",
   "execution_count": 85,
   "metadata": {},
   "outputs": [
    {
     "name": "stdout",
     "output_type": "stream",
     "text": [
      "['smith', 'ian', 'john', 'michelle', 'joe', 'juliette']\n",
      "John\n",
      "You are doing a good job Mr.john\n"
     ]
    }
   ],
   "source": [
    "#Introduction to Lists\n",
    "\n",
    "students = ['smith', 'ian', 'john', 'michelle', 'joe', 'juliette']\n",
    "\n",
    "print(students)\n",
    "print(students[2].title())\n",
    "\n",
    "message1 = f\"You are doing a good job\"\n",
    "message2 = f\" Mr.\"+students[2]\n",
    "print (message1+message2)"
   ]
  },
  {
   "cell_type": "code",
   "execution_count": 86,
   "metadata": {},
   "outputs": [
    {
     "name": "stdout",
     "output_type": "stream",
     "text": [
      "['smith', 'alex', 'john', 'michelle', 'joe', 'juliette']\n"
     ]
    }
   ],
   "source": [
    "students[1] = 'alex'\n",
    "print(students)"
   ]
  },
  {
   "cell_type": "code",
   "execution_count": 87,
   "metadata": {},
   "outputs": [
    {
     "name": "stdout",
     "output_type": "stream",
     "text": [
      "['smith', 'alex', 'john', 'michelle', 'joe', 'juliette', 'tom']\n",
      "['smith', 'alex', 'michelle', 'joe', 'juliette', 'tom']\n",
      "['smith', 'alex', 'michelle', 'joe', 'darren', 'juliette', 'tom']\n",
      "['smith', 'alex', 'michelle', 'joe', 'darren', 'juliette']\n",
      "['smith', 'alex', 'michelle', 'joe', 'juliette']\n"
     ]
    }
   ],
   "source": [
    "students.append('tom')\n",
    "print(students)\n",
    "del students[2]\n",
    "print(students)\n",
    "students.insert(4,'darren')\n",
    "print(students)\n",
    "students.pop()\n",
    "# pop will remove the entries as specified (temporarily). By default removes the last enrty if not specified\n",
    "print(students)\n",
    "students.pop(4)\n",
    "print(students)"
   ]
  }
 ],
 "metadata": {
  "kernelspec": {
   "display_name": "Python 3",
   "language": "python",
   "name": "python3"
  },
  "language_info": {
   "codemirror_mode": {
    "name": "ipython",
    "version": 3
   },
   "file_extension": ".py",
   "mimetype": "text/x-python",
   "name": "python",
   "nbconvert_exporter": "python",
   "pygments_lexer": "ipython3",
   "version": "3.7.3"
  }
 },
 "nbformat": 4,
 "nbformat_minor": 2
}
