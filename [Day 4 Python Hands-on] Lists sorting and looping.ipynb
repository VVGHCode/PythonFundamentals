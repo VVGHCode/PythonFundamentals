{
 "cells": [
  {
   "cell_type": "code",
   "execution_count": 20,
   "metadata": {},
   "outputs": [
    {
     "name": "stdout",
     "output_type": "stream",
     "text": [
      "['Toyota', 'BMW', 'AUDI', 'Range Rover', 'Benz', 'Mini', 'suzuki', 'Lexus']\n",
      "Sorted List:['AUDI', 'BMW', 'Benz', 'Lexus', 'Mini', 'Range Rover', 'Toyota', 'suzuki']\n",
      "['AUDI', 'BMW', 'Benz', 'Lexus', 'Mini', 'Range Rover', 'Toyota', 'suzuki']\n"
     ]
    },
    {
     "data": {
      "text/plain": [
       "8"
      ]
     },
     "execution_count": 20,
     "metadata": {},
     "output_type": "execute_result"
    }
   ],
   "source": [
    "cars = ['Toyota','BMW','AUDI','Range Rover','Benz','Mini','suzuki','Lexus']\n",
    "print(cars)\n",
    "cars.sort()\n",
    "print(f'Sorted List:{cars}')\n",
    "print(cars)\n",
    "len(cars)"
   ]
  },
  {
   "cell_type": "code",
   "execution_count": 19,
   "metadata": {},
   "outputs": [
    {
     "name": "stdout",
     "output_type": "stream",
     "text": [
      "['january', 'february', 'march', 'april', 'may', 'june', 'july', 'august', 'september', 'october', 'november', 'december']\n",
      "\t1th Month Name is: January\n",
      "\t2th Month Name is: February\n",
      "\t3th Month Name is: March\n",
      "\t4th Month Name is: April\n",
      "\t5th Month Name is: May\n",
      "\t6th Month Name is: June\n",
      "\t7th Month Name is: July\n",
      "\t8th Month Name is: August\n",
      "\t9th Month Name is: September\n",
      "\t10th Month Name is: October\n",
      "\t11th Month Name is: November\n",
      "\t12th Month Name is: December\n",
      "\n",
      "End of For Loop\n"
     ]
    }
   ],
   "source": [
    "#Looping\n",
    "#For Loop\n",
    "\n",
    "months = ['january','february','march','april','may','june','july','august','september','october','november','december']\n",
    "print(months)\n",
    "#months.sort()\n",
    "#print(months)\n",
    "x=0\n",
    "\n",
    "for month in months:\n",
    "    x=x+1\n",
    "    print(f'\\t{x}th Month Name is: {month.title()}')\n",
    "print(f'\\nEnd of For Loop')"
   ]
  },
  {
   "cell_type": "code",
   "execution_count": null,
   "metadata": {},
   "outputs": [],
   "source": []
  }
 ],
 "metadata": {
  "kernelspec": {
   "display_name": "Python 3",
   "language": "python",
   "name": "python3"
  },
  "language_info": {
   "codemirror_mode": {
    "name": "ipython",
    "version": 3
   },
   "file_extension": ".py",
   "mimetype": "text/x-python",
   "name": "python",
   "nbconvert_exporter": "python",
   "pygments_lexer": "ipython3",
   "version": "3.7.3"
  }
 },
 "nbformat": 4,
 "nbformat_minor": 2
}
